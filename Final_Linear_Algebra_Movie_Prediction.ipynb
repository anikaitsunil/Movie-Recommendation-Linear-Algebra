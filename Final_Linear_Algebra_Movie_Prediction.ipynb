{
  "nbformat": 4,
  "nbformat_minor": 0,
  "metadata": {
    "colab": {
      "provenance": []
    },
    "kernelspec": {
      "name": "python3",
      "display_name": "Python 3"
    },
    "language_info": {
      "name": "python"
    }
  },
  "cells": [
    {
      "cell_type": "markdown",
      "source": [
        "## Movie Recommendation Using Surprise Module"
      ],
      "metadata": {
        "id": "PGvKciC_DxqZ"
      }
    },
    {
      "cell_type": "code",
      "execution_count": 3,
      "metadata": {
        "colab": {
          "base_uri": "https://localhost:8080/"
        },
        "id": "vDGJ7IONXHXY",
        "outputId": "f022d921-7e56-47fd-efc1-bbaf727f87f6"
      },
      "outputs": [
        {
          "output_type": "stream",
          "name": "stdout",
          "text": [
            "Collecting scikit-surprise\n",
            "  Downloading scikit-surprise-1.1.3.tar.gz (771 kB)\n",
            "\u001b[2K     \u001b[90m━━━━━━━━━━━━━━━━━━━━━━━━━━━━━━━━━━━━━━━━\u001b[0m \u001b[32m772.0/772.0 kB\u001b[0m \u001b[31m7.9 MB/s\u001b[0m eta \u001b[36m0:00:00\u001b[0m\n",
            "\u001b[?25h  Preparing metadata (setup.py) ... \u001b[?25l\u001b[?25hdone\n",
            "Requirement already satisfied: joblib>=1.0.0 in /usr/local/lib/python3.10/dist-packages (from scikit-surprise) (1.3.2)\n",
            "Requirement already satisfied: numpy>=1.17.3 in /usr/local/lib/python3.10/dist-packages (from scikit-surprise) (1.23.5)\n",
            "Requirement already satisfied: scipy>=1.3.2 in /usr/local/lib/python3.10/dist-packages (from scikit-surprise) (1.11.4)\n",
            "Building wheels for collected packages: scikit-surprise\n",
            "  Building wheel for scikit-surprise (setup.py) ... \u001b[?25l\u001b[?25hdone\n",
            "  Created wheel for scikit-surprise: filename=scikit_surprise-1.1.3-cp310-cp310-linux_x86_64.whl size=3163761 sha256=c7d11beccf4e8d09ddd078e49073011c45ceb6fc848e867b168e1f8da25fd227\n",
            "  Stored in directory: /root/.cache/pip/wheels/a5/ca/a8/4e28def53797fdc4363ca4af740db15a9c2f1595ebc51fb445\n",
            "Successfully built scikit-surprise\n",
            "Installing collected packages: scikit-surprise\n",
            "Successfully installed scikit-surprise-1.1.3\n"
          ]
        }
      ],
      "source": [
        "!pip install scikit-surprise"
      ]
    },
    {
      "cell_type": "code",
      "source": [
        "import zipfile\n",
        "import os\n",
        "import urllib.request\n",
        "import pandas as pd\n",
        "import numpy as np\n",
        "import matplotlib.pyplot as plt\n",
        "\n",
        "from surprise.model_selection import train_test_split\n",
        "from surprise import SVD\n",
        "from surprise.model_selection import GridSearchCV\n",
        "from surprise import NMF\n",
        "from surprise import SVDpp\n",
        "from surprise import Dataset\n",
        "from surprise.model_selection import cross_validate\n",
        "from surprise import Reader\n"
      ],
      "metadata": {
        "id": "1VRaA-TiXKmM"
      },
      "execution_count": 41,
      "outputs": []
    },
    {
      "cell_type": "code",
      "source": [
        "\n",
        "# Download and extract MovieLens 100K dataset\n",
        "url = 'http://files.grouplens.org/datasets/movielens/ml-100k.zip'\n",
        "urllib.request.urlretrieve(url, 'movielens.zip')\n",
        "\n",
        "with zipfile.ZipFile('movielens.zip', 'r') as zip_ref:\n",
        "    zip_ref.extractall('movielens_data_folder')\n",
        "\n",
        "# Load MovieLens 100K dataset - u.data file\n",
        "data = pd.read_csv('movielens_data_folder/ml-100k/u.data', sep='\\t', names=['userId', 'movieId', 'rating', 'timestamp'])\n",
        "\n",
        "# Load the dataset using Surprise\n",
        "reader = Reader(rating_scale=(1, 5))  # Set the rating scale\n",
        "surprise_data = Dataset.load_from_df(data[['userId', 'movieId', 'rating']], reader)"
      ],
      "metadata": {
        "id": "5DcHG770XmWG"
      },
      "execution_count": 42,
      "outputs": []
    },
    {
      "cell_type": "code",
      "source": [
        "# Use the full dataset for training (no splitting)\n",
        "train_set = surprise_data.build_full_trainset()\n",
        "\n",
        "# Use Singular Value Decomposition (SVD) algorithm for recommendations\n",
        "model = SVD()\n",
        "model.fit(train_set)\n",
        "# Load the movie information\n",
        "movies_info = pd.read_csv('movielens_data_folder/ml-100k/u.item', sep='|', encoding='latin-1', header=None)\n",
        "movies_info = movies_info.iloc[:, :2]  # Keep only movie ID and title columns\n",
        "movies_info.columns = ['movieId', 'title']"
      ],
      "metadata": {
        "id": "7WFRZhkfXpuO"
      },
      "execution_count": 43,
      "outputs": []
    },
    {
      "cell_type": "code",
      "source": [
        "# Get top 10 movie recommendations for user 5 (change user ID as needed)\n",
        "user_id = '5'\n",
        "top_n = 10\n",
        "\n",
        "# Predict ratings for all movies for the user\n",
        "user_movies = movies_info[~movies_info['movieId'].isin(train_set.ur[int(user_id)])]['movieId']\n",
        "predictions = [model.predict(user_id, movie_id) for movie_id in user_movies]\n",
        "\n",
        "# Sort the predictions by estimated rating in descending order\n",
        "predictions.sort(key=lambda x: x.est, reverse=True)\n",
        "\n",
        "# Print top N recommendations with movie names\n",
        "print(f\"Top {top_n} recommended movies for user {user_id} (with predicted ratings):\")\n",
        "for prediction in predictions[:top_n]:\n",
        "    movie_id = prediction.iid\n",
        "    movie_title = movies_info[movies_info['movieId'] == movie_id]['title'].values[0]\n",
        "    print(f\"Movie ID: {movie_id} - Movie Title: {movie_title} - Predicted Rating: {prediction.est}\")"
      ],
      "metadata": {
        "colab": {
          "base_uri": "https://localhost:8080/"
        },
        "id": "8cMOnYh0Xyat",
        "outputId": "a58fc890-6494-4c3f-956a-b4c733b513c0"
      },
      "execution_count": 44,
      "outputs": [
        {
          "output_type": "stream",
          "name": "stdout",
          "text": [
            "Top 10 recommended movies for user 5 (with predicted ratings):\n",
            "Movie ID: 408 - Movie Title: Close Shave, A (1995) - Predicted Rating: 4.600002177690479\n",
            "Movie ID: 318 - Movie Title: Schindler's List (1993) - Predicted Rating: 4.563884517081006\n",
            "Movie ID: 169 - Movie Title: Wrong Trousers, The (1993) - Predicted Rating: 4.5532045515315245\n",
            "Movie ID: 64 - Movie Title: Shawshank Redemption, The (1994) - Predicted Rating: 4.533098639794476\n",
            "Movie ID: 483 - Movie Title: Casablanca (1942) - Predicted Rating: 4.513906724249775\n",
            "Movie ID: 114 - Movie Title: Wallace & Gromit: The Best of Aardman Animation (1996) - Predicted Rating: 4.488967082581868\n",
            "Movie ID: 603 - Movie Title: Rear Window (1954) - Predicted Rating: 4.4714091330411\n",
            "Movie ID: 12 - Movie Title: Usual Suspects, The (1995) - Predicted Rating: 4.460026146196614\n",
            "Movie ID: 178 - Movie Title: 12 Angry Men (1957) - Predicted Rating: 4.4432869756316915\n",
            "Movie ID: 513 - Movie Title: Third Man, The (1949) - Predicted Rating: 4.439171611012284\n"
          ]
        }
      ]
    },
    {
      "cell_type": "code",
      "source": [
        "# Define the path to the dataset file\n",
        "file_path = 'movielens_data_folder/ml-100k/u.data'  # Replace 'path_to_dataset' with the actual path\n",
        "\n",
        "# Define the format of the dataset\n",
        "reader = Reader(line_format='user item rating timestamp', sep='\\t')\n",
        "\n",
        "# Load the dataset using Surprise\n",
        "data = Dataset.load_from_file(file_path, reader=reader)\n",
        "\n",
        "# Use SVD++ algorithm\n",
        "model = SVDpp()\n",
        "\n",
        "# Perform cross-validation to evaluate the model\n",
        "try:\n",
        "    results = cross_validate(model, data, measures=['RMSE'], cv=3, verbose=True)\n",
        "    print(f\"Average RMSE: {sum(results['test_rmse']) / len(results['test_rmse'])}\")\n",
        "except Exception as e:\n",
        "    print(f\"An error occurred: {e}\")\n"
      ],
      "metadata": {
        "colab": {
          "base_uri": "https://localhost:8080/"
        },
        "id": "H3wPmU_qX2A0",
        "outputId": "3ec8889e-e5bf-4dd2-9a44-7c30365a83ce"
      },
      "execution_count": 45,
      "outputs": [
        {
          "output_type": "stream",
          "name": "stdout",
          "text": [
            "Evaluating RMSE of algorithm SVDpp on 3 split(s).\n",
            "\n",
            "                  Fold 1  Fold 2  Fold 3  Mean    Std     \n",
            "RMSE (testset)    0.9257  0.9263  0.9308  0.9276  0.0023  \n",
            "Fit time          18.73   18.74   18.51   18.66   0.11    \n",
            "Test time         6.05    6.72    7.12    6.63    0.44    \n",
            "Average RMSE: 0.9276183967054957\n"
          ]
        }
      ]
    },
    {
      "cell_type": "code",
      "source": [
        "# Extract top N recommended movies and their predicted ratings\n",
        "top_movies = [prediction.iid for prediction in predictions[:top_n]]\n",
        "ratings = [prediction.est for prediction in predictions[:top_n]]\n",
        "\n",
        "# Create a scatter plot\n",
        "plt.figure(figsize=(8, 6))\n",
        "plt.scatter(top_movies, ratings, color='red')\n",
        "plt.xlabel('Movie ID')\n",
        "plt.ylabel('Predicted Ratings')\n",
        "plt.title(f'Top {top_n} Recommended Movies for User {user_id}')\n",
        "plt.grid(True)\n",
        "plt.show()\n"
      ],
      "metadata": {
        "colab": {
          "base_uri": "https://localhost:8080/",
          "height": 564
        },
        "id": "j1EuMGTw2iwm",
        "outputId": "f5fe930e-874e-4f5f-fd2c-5be55ce2dd8c"
      },
      "execution_count": 46,
      "outputs": [
        {
          "output_type": "display_data",
          "data": {
            "text/plain": [
              "<Figure size 800x600 with 1 Axes>"
            ],
            "image/png": "[encoded data removed]"
          },
          "metadata": {}
        }
      ]
    },
    {
      "cell_type": "code",
      "source": [
        "# Extract predicted ratings\n",
        "ratings = [prediction.est for prediction in predictions]\n",
        "\n",
        "plt.figure(figsize=(8, 6))\n",
        "plt.hist(ratings, bins=10, color='lightgreen', edgecolor='black')\n",
        "plt.xlabel('Predicted Ratings')\n",
        "plt.ylabel('Frequency')\n",
        "plt.title(f'Histogram of Predicted Ratings of Movies for User {user_id}')\n",
        "plt.grid(True)\n",
        "plt.tight_layout()\n",
        "plt.show()\n",
        "\n"
      ],
      "metadata": {
        "colab": {
          "base_uri": "https://localhost:8080/",
          "height": 607
        },
        "id": "9bwTkU0G3J2M",
        "outputId": "a25c9239-1409-426a-fcb4-8966f232fcd3"
      },
      "execution_count": 47,
      "outputs": [
        {
          "output_type": "display_data",
          "data": {
            "text/plain": [
              "<Figure size 800x600 with 1 Axes>"
            ],
            "image/png": "[encoded data removed]"
          },
          "metadata": {}
        }
      ]
    },
    {
      "cell_type": "markdown",
      "source": [
        "## Movie Recommendation Using Manual SVD"
      ],
      "metadata": {
        "id": "Fi6CDXosDr1R"
      }
    },
    {
      "cell_type": "code",
      "source": [
        "import zipfile\n",
        "import os\n",
        "import urllib.request\n",
        "import pandas as pd\n",
        "import numpy as np\n",
        "\n",
        "# Download and extract MovieLens 100K dataset\n",
        "url = 'http://files.grouplens.org/datasets/movielens/ml-100k.zip'\n",
        "urllib.request.urlretrieve(url, 'movielens.zip')\n",
        "\n",
        "with zipfile.ZipFile('movielens.zip', 'r') as zip_ref:\n",
        "    zip_ref.extractall('movielens_data_folder')\n",
        "\n",
        "# Load MovieLens 100K dataset - u.data and u.item files\n",
        "data = pd.read_csv('movielens_data_folder/ml-100k/u.data', sep='\\t', names=['userId', 'movieId', 'rating', 'timestamp'])\n",
        "\n",
        "# Load movie information\n",
        "movie_info = pd.read_csv('movielens_data_folder/ml-100k/u.item', sep='|', encoding='latin-1', header=None,\n",
        "                         names=['movieId', 'movieTitle', 'releaseDate', 'videoReleaseDate', 'imdbUrl',\n",
        "                                'unknown', 'action', 'adventure', 'animation', 'children', 'comedy', 'crime',\n",
        "                                'documentary', 'drama', 'fantasy', 'filmNoir', 'horror', 'musical', 'mystery',\n",
        "                                'romance', 'sciFi', 'thriller', 'war', 'western'])\n",
        "\n",
        "# Create a user-movie rating matrix\n",
        "user_movie_matrix = data.pivot(index='userId', columns='movieId', values='rating').fillna(0)\n",
        "\n",
        "# Convert the user-movie matrix into a NumPy array\n",
        "ratings_matrix = user_movie_matrix.values\n",
        "\n",
        "# Perform Singular Value Decomposition (SVD)\n",
        "k = 100  # Number of latent factors\n",
        "U, sigma, Vt = np.linalg.svd(ratings_matrix, full_matrices=False)\n",
        "\n",
        "# Reconstruct the ratings matrix using the reduced SVD components\n",
        "predicted_ratings = np.dot(np.dot(U[:, :k], np.diag(sigma[:k])), Vt[:k, :])\n",
        "\n",
        "# Get recommendations for a specific user\n",
        "target_user_id = 5  # Change this to the desired user ID\n",
        "user_ratings = ratings_matrix[target_user_id - 1]  # Adjust for 0-based indexing\n",
        "\n",
        "# Extract rated movie IDs and corresponding ratings for the user\n",
        "rated_movie_ids = np.where(user_ratings > 0)[0]\n",
        "rated_movie_ratings = user_ratings[user_ratings > 0]\n",
        "\n",
        "genre_ratings = movie_info.iloc[rated_movie_ids][['action', 'adventure', 'animation', 'children', 'comedy',\n",
        "                                                  'crime', 'documentary', 'drama', 'fantasy', 'filmNoir', 'horror',\n",
        "                                                  'musical', 'mystery', 'romance', 'sciFi', 'thriller', 'war',\n",
        "                                                  'western']].values\n",
        "\n",
        "# Calculate the average rating for each genre based on the user's rated movies\n",
        "genre_ratings_sum = np.sum(genre_ratings, axis=0)\n",
        "valid_indices = np.where(genre_ratings_sum != 0)[0]  # Get indices where sum is not zero\n",
        "\n",
        "average_genre_ratings = np.zeros(len(genre_ratings_sum))\n",
        "average_genre_ratings[valid_indices] = np.sum(genre_ratings[:, valid_indices] * rated_movie_ratings.reshape(-1, 1), axis=0) / genre_ratings_sum[valid_indices]\n",
        "\n",
        "# Predict ratings for unrated movies of similar genres\n",
        "unrated_movie_ids = np.where(user_ratings == 0)[0]\n",
        "unrated_movie_genres = movie_info.iloc[unrated_movie_ids][['action', 'adventure', 'animation', 'children', 'comedy',\n",
        "                                                          'crime', 'documentary', 'drama', 'fantasy', 'filmNoir',\n",
        "                                                          'horror', 'musical', 'mystery', 'romance', 'sciFi', 'thriller',\n",
        "                                                          'war', 'western']].values\n",
        "\n",
        "\n",
        "top_k = 10  # Number of top recommendations\n",
        "top_movie_indices = np.argsort(predicted_user_ratings)[::-1][:top_k]\n",
        "top_movies = movie_info.iloc[unrated_movie_ids].iloc[top_movie_indices]\n",
        "\n",
        "k=[]\n",
        "for prediction in predictions[:top_n]:\n",
        "    movie_id = prediction.iid\n",
        "    movie_title = movies_info[movies_info['movieId'] == movie_id]['title'].values[0]\n",
        "    k.append(movie_title)\n",
        "\n",
        "for _, row in top_movies.iterrows():\n",
        "    genres = [genre for genre, value in row[2:].items() if value == 1]\n",
        "    k.append(', '.join(genres))\n",
        "\n",
        "print('Top 10 recommended movies for user 5:')\n",
        "for i in range(9):\n",
        "  print(k[i],'- Genres: ', k[i+10])\n",
        "# Calculate RMSE between predicted ratings and actual ratings\n",
        "nonzero_indices = ratings_matrix.nonzero()\n",
        "num_entries = len(nonzero_indices[0])\n",
        "rmse = np.sqrt(np.sum((predicted_ratings[nonzero_indices] - ratings_matrix[nonzero_indices]) ** 2) / num_entries)\n",
        "print(f'RMSE: {rmse}')\n",
        "\n",
        "\n"
      ],
      "metadata": {
        "colab": {
          "base_uri": "https://localhost:8080/"
        },
        "id": "k-z9lv1nJNvz",
        "outputId": "67c526ba-e18c-4226-9e2b-0d263404f665"
      },
      "execution_count": 48,
      "outputs": [
        {
          "output_type": "stream",
          "name": "stdout",
          "text": [
            "Top 10 recommended movies for user 5:\n",
            "Close Shave, A (1995) - Genres:  adventure, children, comedy, fantasy, romance, sciFi\n",
            "Schindler's List (1993) - Genres:  adventure, animation, children, comedy, musical\n",
            "Wrong Trousers, The (1993) - Genres:  action, adventure, comedy, horror, sciFi\n",
            "Shawshank Redemption, The (1994) - Genres:  action, adventure, animation, children, fantasy\n",
            "Casablanca (1942) - Genres:  adventure, animation, children, comedy, fantasy\n",
            "Wallace & Gromit: The Best of Aardman Animation (1996) - Genres:  action, adventure, children, fantasy, sciFi\n",
            "Rear Window (1954) - Genres:  crime, filmNoir, mystery, thriller\n",
            "Usual Suspects, The (1995) - Genres:  crime, filmNoir, mystery, thriller\n",
            "12 Angry Men (1957) - Genres:  action, drama, mystery, romance, thriller\n",
            "RMSE: 1.5124160018775665\n"
          ]
        }
      ]
    }
  ]
}